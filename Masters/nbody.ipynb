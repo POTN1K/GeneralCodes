{
 "cells": [
  {
   "cell_type": "markdown",
   "metadata": {},
   "source": [
    "# N Body Problem Simulator\n",
    " By N. Ricker"
   ]
  },
  {
   "cell_type": "code",
   "execution_count": 5,
   "metadata": {},
   "outputs": [],
   "source": [
    "# Import Modules\n",
    "import numpy as np\n",
    "from scipy.integrate import odeint\n",
    "import matplotlib.pyplot as plt"
   ]
  },
  {
   "cell_type": "code",
   "execution_count": 6,
   "metadata": {},
   "outputs": [],
   "source": [
    "# Constants\n",
    "G = 6.67408e-11 # m^3 kg^-1 s^-2"
   ]
  },
  {
   "cell_type": "code",
   "execution_count": 46,
   "metadata": {},
   "outputs": [],
   "source": [
    "# Body class\n",
    "class Body:\n",
    "    def __init__(self, name='x', mass=1, radius=0, position=[0,0,0], velocity=[0,0,0]):\n",
    "        self.name = name\n",
    "        self.mass = mass\n",
    "        self.radius = radius\n",
    "        self.position = np.array(position, dtype=float)\n",
    "        self.velocity = np.array(velocity, dtype=float)\n",
    "        self.state = np.concatenate((self.position, self.velocity))"
   ]
  },
  {
   "cell_type": "code",
   "execution_count": 8,
   "metadata": {},
   "outputs": [],
   "source": [
    "# System class\n",
    "class System:\n",
    "    def __init__(self):\n",
    "        self.bodies = []\n",
    "        self.positions = np.array([])\n",
    "        self.velocities = np.array([])\n",
    "        self.stateVector = np.concatenate((self.positions, self.velocities))\n",
    "\n",
    "    def add_body(self, body):\n",
    "        self.bodies.append(body)\n",
    "        self.positions = np.append(self.positions, body.position)\n",
    "        self.velocities = np.append(self.velocities, body.velocity)\n",
    "        self.stateVector = np.concatenate((self.positions, self.velocities))"
   ]
  },
  {
   "cell_type": "code",
   "execution_count": 47,
   "metadata": {},
   "outputs": [],
   "source": [
    "# Differential equation\n",
    "def diff_eq(stateVector, t, system):\n",
    "    # Initialize\n",
    "    dydt = np.zeros_like(stateVector)\n",
    "    N = len(system.bodies)\n",
    "    dydt[:3*N] = stateVector[3*N:]\n",
    "    \n",
    "    for i, body in enumerate(system.bodies):\n",
    "        ai = np.zeros(3)\n",
    "        for j, pbody in enumerate(system.bodies):\n",
    "            if i==j:\n",
    "                continue\n",
    "            posBody = stateVector[3*i:3*(i+1)]\n",
    "            posPBody = stateVector[3*j:3*(j+1)]\n",
    "            r = posPBody - posBody\n",
    "            ai += G*pbody.mass*r/np.linalg.norm(r)**3\n",
    "        dydt[3*N + 3*i:3*N + 3*(i+1)] = ai\n",
    "    return dydt"
   ]
  },
  {
   "cell_type": "code",
   "execution_count": 56,
   "metadata": {},
   "outputs": [],
   "source": [
    "# Solve differential equation for system based on solar system\n",
    "t = np.linspace(0, 365*24*3600, 100000)\n",
    "system = System()\n",
    "system.add_body(Body(\"Sun\", 1.989e30, 0, [0,0,0], [0,0,0]))                    # Sun\n",
    "system.add_body(Body(\"Mercury\", 3.301e23, 0, [5.791e10,0,0], [0,4.787e4,0]))     # Mercury\n",
    "#system.add_body(Body(\"Venus\", 4.867e24, 0, [1.082e11,0,0], [0,3.502e4,0]))       # Venus\n",
    "system.add_body(Body(\"Earth\", 5.972e24, 0, [1.496e11,0,0], [0,2.978e4,0]))       # Earth\n",
    "system.add_body(Body(\"Moon\", 7.34767309e22, 0, [1.496e11+3.844e8,0,0], [0,2.978e4+1.022e3,0]))       # Moon\n",
    "#system.add_body(Body(\"Mars\", 6.417e23, 0, [2.279e11,0,0], [0,2.407e4,0]))        # Mars\n",
    "#system.add_body(Body(\"Jupiter\", 1.899e27, 0, [7.785e11,0,0], [0,1.307e4,0]))     # Jupiter\n",
    "#system.add_body(Body(\"Saturn\", 5.685e26, 0, [1.433e12,0,0], [0,9.69e3,0]))       # Saturn\n",
    "#system.add_body(Body(\"Uranus\", 8.682e25, 0, [2.877e12,0,0], [0,6.81e3,0]))       # Uranus\n",
    "\n",
    "\n",
    "sol = odeint(diff_eq, system.stateVector, t, args=(system,))"
   ]
  },
  {
   "cell_type": "code",
   "execution_count": 58,
   "metadata": {},
   "outputs": [],
   "source": [
    "%matplotlib qt\n",
    "fig = plt.figure()\n",
    "ax = fig.add_subplot(111)\n",
    "\n",
    "for i, body in enumerate(system.bodies):\n",
    "    ax.plot(sol[::10,3*i], sol[::10,3*i+1], label=body.name)\n",
    "\n",
    "ax.set_xlabel('x [m]')\n",
    "ax.set_ylabel('y [m]')\n",
    "ax.axis('equal')\n",
    "ax.legend()\n",
    "plt.show()\n",
    "    "
   ]
  },
  {
   "cell_type": "code",
   "execution_count": null,
   "metadata": {},
   "outputs": [],
   "source": []
  }
 ],
 "metadata": {
  "kernelspec": {
   "display_name": "general",
   "language": "python",
   "name": "python3"
  },
  "language_info": {
   "codemirror_mode": {
    "name": "ipython",
    "version": 3
   },
   "file_extension": ".py",
   "mimetype": "text/x-python",
   "name": "python",
   "nbconvert_exporter": "python",
   "pygments_lexer": "ipython3",
   "version": "3.10.6"
  }
 },
 "nbformat": 4,
 "nbformat_minor": 2
}
